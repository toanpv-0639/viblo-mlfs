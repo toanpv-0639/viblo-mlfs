{
 "cells": [
  {
   "cell_type": "code",
   "execution_count": 1,
   "metadata": {},
   "outputs": [],
   "source": [
    "import numpy as np\n",
    "from tqdm import tqdm\n",
    "\n",
    "\n",
    "class LinearRegression:\n",
    "    def __init__(self, lr=0.01, epochs=1000):\n",
    "        self.epochs = epochs\n",
    "        self.lr = lr\n",
    "        self.W = 0\n",
    "        self.b = 0\n",
    "\n",
    "    def initialize(self, n_features):\n",
    "        self.W = np.random.normal(0, 1, size=(n_features, 1))\n",
    "        self.W = np.squeeze(self.W, axis=1)\n",
    "\n",
    "    def gradient(self, X, y, n_samples):\n",
    "        y_pred = self.predict(X)\n",
    "        \n",
    "        # Calculate diff\n",
    "        d_w = (2 / n_samples) * np.dot(X.T, (y_pred - y))\n",
    "        d_b = (2 / n_samples) * np.sum((y_pred - y))\n",
    "\n",
    "        return d_w, d_b\n",
    "\n",
    "    def fit(self, X, y):\n",
    "        # Load sample and features\n",
    "        n_samples, n_features = X.shape\n",
    "        # Init weights\n",
    "        self.initialize(n_features)\n",
    "        # Calculate gradient descent per epoch\n",
    "        for _ in tqdm(range(self.epochs)):\n",
    "            d_w, d_b = self.gradient(X, y, n_samples)\n",
    "            self.W -= self.lr * d_w\n",
    "            self.b -= self.lr * d_b\n",
    "\n",
    "    def predict(self, X):\n",
    "        return np.dot(X, self.W) + self.b"
   ]
  },
  {
   "cell_type": "code",
   "execution_count": 2,
   "metadata": {},
   "outputs": [],
   "source": [
    "from sklearn.datasets import make_regression\n",
    "from sklearn.linear_model import LinearRegression as SkLearnLN\n",
    "from sklearn.metrics import mean_squared_error\n",
    "from sklearn.model_selection import train_test_split"
   ]
  },
  {
   "cell_type": "code",
   "execution_count": 3,
   "metadata": {},
   "outputs": [],
   "source": [
    "data = make_regression(n_samples=100000, n_features=10)\n",
    "\n",
    "# Train test split\n",
    "X_train, X_test, y_train, y_test = train_test_split(data[0], data[1], test_size=0.2)"
   ]
  },
  {
   "cell_type": "code",
   "execution_count": 11,
   "metadata": {},
   "outputs": [
    {
     "name": "stderr",
     "output_type": "stream",
     "text": [
      "100%|██████████| 2000/2000 [00:01<00:00, 1053.16it/s]"
     ]
    },
    {
     "name": "stdout",
     "output_type": "stream",
     "text": [
      "Mean square error our:  3.257897561135531e-25\n",
      "Mean square error sklearn:  1.7868139348369212e-25\n"
     ]
    },
    {
     "name": "stderr",
     "output_type": "stream",
     "text": [
      "\n"
     ]
    }
   ],
   "source": [
    "# Fit our model\n",
    "model = LinearRegression(epochs=2000)\n",
    "model.fit(X_train, y_train)\n",
    "\n",
    "# Evaluation our model \n",
    "y_pred = model.predict(X_test)\n",
    "mse = mean_squared_error(y_pred, y_test)\n",
    "\n"
   ]
  },
  {
   "cell_type": "code",
   "execution_count": null,
   "metadata": {},
   "outputs": [],
   "source": []
  }
 ],
 "metadata": {
  "kernelspec": {
   "display_name": "Python 3",
   "language": "python",
   "name": "python3"
  },
  "language_info": {
   "codemirror_mode": {
    "name": "ipython",
    "version": 3
   },
   "file_extension": ".py",
   "mimetype": "text/x-python",
   "name": "python",
   "nbconvert_exporter": "python",
   "pygments_lexer": "ipython3",
   "version": "3.7.6"
  }
 },
 "nbformat": 4,
 "nbformat_minor": 4
}
